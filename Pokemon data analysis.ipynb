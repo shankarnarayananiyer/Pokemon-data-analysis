{
 "cells": [
  {
   "cell_type": "markdown",
   "id": "afefe3b4",
   "metadata": {},
   "source": [
    "# Pokemon data analysis"
   ]
  },
  {
   "cell_type": "code",
   "execution_count": 3,
   "id": "023ef6b6",
   "metadata": {},
   "outputs": [],
   "source": [
    "import pandas as pd"
   ]
  },
  {
   "cell_type": "code",
   "execution_count": 4,
   "id": "a5b6850e",
   "metadata": {},
   "outputs": [
    {
     "data": {
      "text/html": [
       "<div>\n",
       "<style scoped>\n",
       "    .dataframe tbody tr th:only-of-type {\n",
       "        vertical-align: middle;\n",
       "    }\n",
       "\n",
       "    .dataframe tbody tr th {\n",
       "        vertical-align: top;\n",
       "    }\n",
       "\n",
       "    .dataframe thead th {\n",
       "        text-align: right;\n",
       "    }\n",
       "</style>\n",
       "<table border=\"1\" class=\"dataframe\">\n",
       "  <thead>\n",
       "    <tr style=\"text-align: right;\">\n",
       "      <th></th>\n",
       "      <th>#</th>\n",
       "      <th>Name</th>\n",
       "      <th>Type 1</th>\n",
       "      <th>Type 2</th>\n",
       "      <th>HP</th>\n",
       "      <th>Attack</th>\n",
       "      <th>Defense</th>\n",
       "      <th>Sp. Atk</th>\n",
       "      <th>Sp. Def</th>\n",
       "      <th>Speed</th>\n",
       "      <th>Generation</th>\n",
       "      <th>Legendary</th>\n",
       "    </tr>\n",
       "  </thead>\n",
       "  <tbody>\n",
       "    <tr>\n",
       "      <th>0</th>\n",
       "      <td>1</td>\n",
       "      <td>Bulbasaur</td>\n",
       "      <td>Grass</td>\n",
       "      <td>Poison</td>\n",
       "      <td>45</td>\n",
       "      <td>49</td>\n",
       "      <td>49</td>\n",
       "      <td>65</td>\n",
       "      <td>65</td>\n",
       "      <td>45</td>\n",
       "      <td>1</td>\n",
       "      <td>False</td>\n",
       "    </tr>\n",
       "    <tr>\n",
       "      <th>1</th>\n",
       "      <td>2</td>\n",
       "      <td>Ivysaur</td>\n",
       "      <td>Grass</td>\n",
       "      <td>Poison</td>\n",
       "      <td>60</td>\n",
       "      <td>62</td>\n",
       "      <td>63</td>\n",
       "      <td>80</td>\n",
       "      <td>80</td>\n",
       "      <td>60</td>\n",
       "      <td>1</td>\n",
       "      <td>False</td>\n",
       "    </tr>\n",
       "    <tr>\n",
       "      <th>2</th>\n",
       "      <td>3</td>\n",
       "      <td>Venusaur</td>\n",
       "      <td>Grass</td>\n",
       "      <td>Poison</td>\n",
       "      <td>80</td>\n",
       "      <td>82</td>\n",
       "      <td>83</td>\n",
       "      <td>100</td>\n",
       "      <td>100</td>\n",
       "      <td>80</td>\n",
       "      <td>1</td>\n",
       "      <td>False</td>\n",
       "    </tr>\n",
       "    <tr>\n",
       "      <th>3</th>\n",
       "      <td>3</td>\n",
       "      <td>VenusaurMega Venusaur</td>\n",
       "      <td>Grass</td>\n",
       "      <td>Poison</td>\n",
       "      <td>80</td>\n",
       "      <td>100</td>\n",
       "      <td>123</td>\n",
       "      <td>122</td>\n",
       "      <td>120</td>\n",
       "      <td>80</td>\n",
       "      <td>1</td>\n",
       "      <td>False</td>\n",
       "    </tr>\n",
       "    <tr>\n",
       "      <th>4</th>\n",
       "      <td>4</td>\n",
       "      <td>Charmander</td>\n",
       "      <td>Fire</td>\n",
       "      <td>NaN</td>\n",
       "      <td>39</td>\n",
       "      <td>52</td>\n",
       "      <td>43</td>\n",
       "      <td>60</td>\n",
       "      <td>50</td>\n",
       "      <td>65</td>\n",
       "      <td>1</td>\n",
       "      <td>False</td>\n",
       "    </tr>\n",
       "  </tbody>\n",
       "</table>\n",
       "</div>"
      ],
      "text/plain": [
       "   #                   Name Type 1  Type 2  HP  Attack  Defense  Sp. Atk  \\\n",
       "0  1              Bulbasaur  Grass  Poison  45      49       49       65   \n",
       "1  2                Ivysaur  Grass  Poison  60      62       63       80   \n",
       "2  3               Venusaur  Grass  Poison  80      82       83      100   \n",
       "3  3  VenusaurMega Venusaur  Grass  Poison  80     100      123      122   \n",
       "4  4             Charmander   Fire     NaN  39      52       43       60   \n",
       "\n",
       "   Sp. Def  Speed  Generation  Legendary  \n",
       "0       65     45           1      False  \n",
       "1       80     60           1      False  \n",
       "2      100     80           1      False  \n",
       "3      120     80           1      False  \n",
       "4       50     65           1      False  "
      ]
     },
     "execution_count": 4,
     "metadata": {},
     "output_type": "execute_result"
    }
   ],
   "source": [
    "# loading the column\n",
    "df = pd.read_csv('pokemon_data.csv')\n",
    "df.head()"
   ]
  },
  {
   "cell_type": "code",
   "execution_count": 5,
   "id": "cbc23aca",
   "metadata": {},
   "outputs": [
    {
     "name": "stdout",
     "output_type": "stream",
     "text": [
      "The shape of the dataframe: (800, 12)\n",
      "<class 'pandas.core.frame.DataFrame'>\n",
      "RangeIndex: 800 entries, 0 to 799\n",
      "Data columns (total 12 columns):\n",
      " #   Column      Non-Null Count  Dtype \n",
      "---  ------      --------------  ----- \n",
      " 0   #           800 non-null    int64 \n",
      " 1   Name        800 non-null    object\n",
      " 2   Type 1      800 non-null    object\n",
      " 3   Type 2      414 non-null    object\n",
      " 4   HP          800 non-null    int64 \n",
      " 5   Attack      800 non-null    int64 \n",
      " 6   Defense     800 non-null    int64 \n",
      " 7   Sp. Atk     800 non-null    int64 \n",
      " 8   Sp. Def     800 non-null    int64 \n",
      " 9   Speed       800 non-null    int64 \n",
      " 10  Generation  800 non-null    int64 \n",
      " 11  Legendary   800 non-null    bool  \n",
      "dtypes: bool(1), int64(8), object(3)\n",
      "memory usage: 69.7+ KB\n",
      "None\n",
      "                #          HP      Attack     Defense     Sp. Atk     Sp. Def  \\\n",
      "count  800.000000  800.000000  800.000000  800.000000  800.000000  800.000000   \n",
      "mean   362.813750   69.258750   79.001250   73.842500   72.820000   71.902500   \n",
      "std    208.343798   25.534669   32.457366   31.183501   32.722294   27.828916   \n",
      "min      1.000000    1.000000    5.000000    5.000000   10.000000   20.000000   \n",
      "25%    184.750000   50.000000   55.000000   50.000000   49.750000   50.000000   \n",
      "50%    364.500000   65.000000   75.000000   70.000000   65.000000   70.000000   \n",
      "75%    539.250000   80.000000  100.000000   90.000000   95.000000   90.000000   \n",
      "max    721.000000  255.000000  190.000000  230.000000  194.000000  230.000000   \n",
      "\n",
      "            Speed  Generation  \n",
      "count  800.000000   800.00000  \n",
      "mean    68.277500     3.32375  \n",
      "std     29.060474     1.66129  \n",
      "min      5.000000     1.00000  \n",
      "25%     45.000000     2.00000  \n",
      "50%     65.000000     3.00000  \n",
      "75%     90.000000     5.00000  \n",
      "max    180.000000     6.00000  \n"
     ]
    }
   ],
   "source": [
    "# Exploring the data\n",
    "print(\"The shape of the dataframe:\",df.shape)\n",
    "print(df.info())\n",
    "print(df.describe())"
   ]
  },
  {
   "cell_type": "markdown",
   "id": "fd57dd06",
   "metadata": {},
   "source": [
    "There are 800 records and 12 features in this dataset"
   ]
  },
  {
   "cell_type": "markdown",
   "id": "08ec63aa",
   "metadata": {},
   "source": [
    "These are the columns to analyze"
   ]
  },
  {
   "cell_type": "markdown",
   "id": "c42b645e",
   "metadata": {},
   "source": [
    "## Data Cleaning\n",
    "### 1) Checking missing values\n",
    "### 2) Duplicates\n",
    "### 3) Remaning columns"
   ]
  },
  {
   "cell_type": "code",
   "execution_count": 6,
   "id": "8d7202a1",
   "metadata": {},
   "outputs": [
    {
     "name": "stdout",
     "output_type": "stream",
     "text": [
      "Missing values: #               0\n",
      "Name            0\n",
      "Type 1          0\n",
      "Type 2        386\n",
      "HP              0\n",
      "Attack          0\n",
      "Defense         0\n",
      "Sp. Atk         0\n",
      "Sp. Def         0\n",
      "Speed           0\n",
      "Generation      0\n",
      "Legendary       0\n",
      "dtype: int64\n"
     ]
    }
   ],
   "source": [
    "# Missing values\n",
    "print('Missing values:', df.isnull().sum())"
   ]
  },
  {
   "cell_type": "markdown",
   "id": "09d9bcba",
   "metadata": {},
   "source": [
    "The feature 'Type 2' seems to be only one which is incomplete hence we can avoid it to take any decision from"
   ]
  },
  {
   "cell_type": "code",
   "execution_count": 7,
   "id": "c6866207",
   "metadata": {},
   "outputs": [
    {
     "name": "stdout",
     "output_type": "stream",
     "text": [
      "0\n"
     ]
    }
   ],
   "source": [
    "# Duplicates\n",
    "print(df.duplicated().sum())"
   ]
  },
  {
   "cell_type": "markdown",
   "id": "ed381166",
   "metadata": {},
   "source": [
    "No duplicates found"
   ]
  },
  {
   "cell_type": "code",
   "execution_count": 8,
   "id": "4085282c",
   "metadata": {},
   "outputs": [
    {
     "data": {
      "text/plain": [
       "Index(['#', 'Name', 'Type 1', 'Type 2', 'HP', 'Attack', 'Defense', 'Sp. Atk',\n",
       "       'Sp. Def', 'Speed', 'Generation', 'Legendary'],\n",
       "      dtype='object')"
      ]
     },
     "execution_count": 8,
     "metadata": {},
     "output_type": "execute_result"
    }
   ],
   "source": [
    "# Fetching the column names\n",
    "df.columns"
   ]
  },
  {
   "cell_type": "code",
   "execution_count": 9,
   "id": "fed51222",
   "metadata": {},
   "outputs": [
    {
     "data": {
      "text/plain": [
       "Index(['#', 'name', 'type_1', 'type_2', 'hp', 'attack', 'defense', 'sp._atk',\n",
       "       'sp._def', 'speed', 'generation', 'legendary'],\n",
       "      dtype='object')"
      ]
     },
     "execution_count": 9,
     "metadata": {},
     "output_type": "execute_result"
    }
   ],
   "source": [
    "# Renaming for consistency\n",
    "df.columns = df.columns.str.strip().str.lower().str.replace(\" \", \"_\")\n",
    "df.columns"
   ]
  },
  {
   "cell_type": "markdown",
   "id": "7bc19e8f",
   "metadata": {},
   "source": [
    "## Exploratory Data Analyst"
   ]
  },
  {
   "cell_type": "code",
   "execution_count": 10,
   "id": "00aa47c4",
   "metadata": {},
   "outputs": [
    {
     "name": "stdout",
     "output_type": "stream",
     "text": [
      "Water       112\n",
      "Normal       98\n",
      "Grass        70\n",
      "Bug          69\n",
      "Psychic      57\n",
      "Fire         52\n",
      "Electric     44\n",
      "Rock         44\n",
      "Dragon       32\n",
      "Ground       32\n",
      "Ghost        32\n",
      "Dark         31\n",
      "Poison       28\n",
      "Steel        27\n",
      "Fighting     27\n",
      "Ice          24\n",
      "Fairy        17\n",
      "Flying        4\n",
      "Name: type_1, dtype: int64\n"
     ]
    }
   ],
   "source": [
    "# Categorical Analysis\n",
    "print(df['type_1'].value_counts())"
   ]
  },
  {
   "cell_type": "code",
   "execution_count": 11,
   "id": "8db5605e",
   "metadata": {},
   "outputs": [
    {
     "name": "stdout",
     "output_type": "stream",
     "text": [
      "1    166\n",
      "5    165\n",
      "3    160\n",
      "4    121\n",
      "2    106\n",
      "6     82\n",
      "Name: generation, dtype: int64\n"
     ]
    }
   ],
   "source": [
    "print(df['generation'].value_counts())"
   ]
  },
  {
   "cell_type": "code",
   "execution_count": 12,
   "id": "21e52dba",
   "metadata": {},
   "outputs": [
    {
     "name": "stdout",
     "output_type": "stream",
     "text": [
      "                        name  attack\n",
      "163      MewtwoMega Mewtwo X     190\n",
      "232  HeracrossMega Heracross     185\n",
      "424    GroudonPrimal Groudon     180\n",
      "426    RayquazaMega Rayquaza     180\n",
      "429       DeoxysAttack Forme     180\n",
      "494    GarchompMega Garchomp     170\n",
      "711       KyuremBlack Kyurem     170\n",
      "387      BanetteMega Banette     165\n",
      "454                Rampardos     165\n",
      "527      GalladeMega Gallade     165\n"
     ]
    }
   ],
   "source": [
    "# Numerical Analysis\n",
    "# Best attack\n",
    "print(df[['name','attack']].nlargest(10,'attack'))"
   ]
  },
  {
   "cell_type": "code",
   "execution_count": 13,
   "id": "9adadbfd",
   "metadata": {},
   "outputs": [
    {
     "name": "stdout",
     "output_type": "stream",
     "text": [
      "                    name  defense\n",
      "224  SteelixMega Steelix      230\n",
      "230              Shuckle      230\n",
      "333    AggronMega Aggron      230\n",
      "223              Steelix      200\n",
      "414             Regirock      200\n",
      "789              Avalugg      184\n",
      "87   SlowbroMega Slowbro      180\n",
      "98              Cloyster      180\n",
      "332               Aggron      180\n",
      "456            Bastiodon      168\n"
     ]
    }
   ],
   "source": [
    "# Best Defense\n",
    "print(df[['name','defense']].nlargest(10, 'defense'))"
   ]
  },
  {
   "cell_type": "code",
   "execution_count": 14,
   "id": "4c26987c",
   "metadata": {},
   "outputs": [
    {
     "name": "stdout",
     "output_type": "stream",
     "text": [
      "                          name  speed\n",
      "431          DeoxysSpeed Forme    180\n",
      "315                    Ninjask    160\n",
      "71       AlakazamMega Alakazam    150\n",
      "154  AerodactylMega Aerodactyl    150\n",
      "428         DeoxysNormal Forme    150\n",
      "429         DeoxysAttack Forme    150\n",
      "19       BeedrillMega Beedrill    145\n",
      "275      SceptileMega Sceptile    145\n",
      "678                   Accelgor    145\n",
      "109                  Electrode    140\n"
     ]
    }
   ],
   "source": [
    "# Best Speed\n",
    "print(df[['name','speed']].nlargest(10, 'speed'))"
   ]
  },
  {
   "cell_type": "code",
   "execution_count": 15,
   "id": "f204b443",
   "metadata": {},
   "outputs": [
    {
     "name": "stdout",
     "output_type": "stream",
     "text": [
      "              attack     defense         hp\n",
      "type_1                                     \n",
      "Dragon    112.125000   86.375000  83.312500\n",
      "Fighting   96.777778   65.925926  69.851852\n",
      "Ground     95.750000   84.843750  73.781250\n",
      "Rock       92.863636  100.795455  65.363636\n",
      "Steel      92.703704  126.370370  65.222222\n",
      "Dark       88.387097   70.225806  66.806452\n",
      "Fire       84.769231   67.769231  69.903846\n",
      "Flying     78.750000   66.250000  70.750000\n",
      "Poison     74.678571   68.821429  67.250000\n",
      "Water      74.151786   72.946429  72.062500\n",
      "Ghost      73.781250   81.187500  64.437500\n",
      "Normal     73.469388   59.846939  77.275510\n",
      "Grass      73.214286   70.800000  67.271429\n",
      "Ice        72.750000   71.416667  72.000000\n",
      "Psychic    71.456140   67.684211  70.631579\n",
      "Bug        70.971014   70.724638  56.884058\n",
      "Electric   69.090909   66.295455  59.795455\n",
      "Fairy      61.529412   65.705882  74.117647\n"
     ]
    }
   ],
   "source": [
    "# Average stats by type\n",
    "avg_stats_by_type = df.groupby('type_1')[['attack','defense','hp']].mean().sort_values('attack',ascending = False)\n",
    "print(avg_stats_by_type)"
   ]
  },
  {
   "cell_type": "code",
   "execution_count": 16,
   "id": "edb44eac",
   "metadata": {},
   "outputs": [
    {
     "name": "stdout",
     "output_type": "stream",
     "text": [
      "               attack    defense       speed\n",
      "legendary                                   \n",
      "False       75.669388  71.559184   65.455782\n",
      "True       116.676923  99.661538  100.184615\n"
     ]
    }
   ],
   "source": [
    "# Legendary vs non-legendary\n",
    "legendary_stats = df.groupby('legendary')[['attack','defense','speed']].mean()\n",
    "print(legendary_stats)"
   ]
  },
  {
   "cell_type": "markdown",
   "id": "b57a46cb",
   "metadata": {},
   "source": [
    "## Feature Engineering"
   ]
  },
  {
   "cell_type": "code",
   "execution_count": 17,
   "id": "ac8fffde",
   "metadata": {},
   "outputs": [
    {
     "data": {
      "text/plain": [
       "0      318\n",
       "1      405\n",
       "2      525\n",
       "3      625\n",
       "4      309\n",
       "      ... \n",
       "795    600\n",
       "796    700\n",
       "797    600\n",
       "798    680\n",
       "799    600\n",
       "Name: total_stats, Length: 800, dtype: int64"
      ]
     },
     "execution_count": 17,
     "metadata": {},
     "output_type": "execute_result"
    }
   ],
   "source": [
    "# Total stats\n",
    "df['total_stats'] =df[[\"hp\",\"attack\",\"defense\",\"sp._atk\",\"sp._def\",\"speed\"]].sum(axis=1)\n",
    "df['total_stats']"
   ]
  },
  {
   "cell_type": "code",
   "execution_count": 18,
   "id": "26213325",
   "metadata": {},
   "outputs": [
    {
     "data": {
      "text/plain": [
       "False    576\n",
       "True     224\n",
       "Name: strong_pokemon, dtype: int64"
      ]
     },
     "execution_count": 18,
     "metadata": {},
     "output_type": "execute_result"
    }
   ],
   "source": [
    "#Strong pokemon flag\n",
    "df['strong_pokemon'] = df['total_stats'] > 500\n",
    "df['strong_pokemon'].value_counts()"
   ]
  },
  {
   "cell_type": "markdown",
   "id": "4ecaf39e",
   "metadata": {},
   "source": [
    "## Visualizing"
   ]
  },
  {
   "cell_type": "code",
   "execution_count": 19,
   "id": "e0e3f8dd",
   "metadata": {},
   "outputs": [
    {
     "data": {
      "image/png": "[encoded data removed]",
      "text/plain": [
       "<Figure size 432x288 with 1 Axes>"
      ]
     },
     "metadata": {
      "needs_background": "light"
     },
     "output_type": "display_data"
    },
    {
     "data": {
      "image/png": "[encoded data removed]",
      "text/plain": [
       "<Figure size 720x432 with 1 Axes>"
      ]
     },
     "metadata": {
      "needs_background": "light"
     },
     "output_type": "display_data"
    },
    {
     "data": {
      "image/png": "[encoded data removed]",
      "text/plain": [
       "<Figure size 720x432 with 2 Axes>"
      ]
     },
     "metadata": {
      "needs_background": "light"
     },
     "output_type": "display_data"
    },
    {
     "data": {
      "image/png": "[encoded data removed]",
      "text/plain": [
       "<Figure size 432x288 with 1 Axes>"
      ]
     },
     "metadata": {
      "needs_background": "light"
     },
     "output_type": "display_data"
    }
   ],
   "source": [
    "import matplotlib.pyplot as plt\n",
    "import seaborn as sns\n",
    "\n",
    "# Distribution of attack\n",
    "sns.histplot(df['attack'], bins = 30, kde = True)\n",
    "plt.show()\n",
    "\n",
    "#Pokemon by type\n",
    "plt.figure(figsize = (10,6))\n",
    "sns.countplot(x='type_1',data = df, order = df['type_1'].value_counts().index)\n",
    "plt.xticks()\n",
    "plt.show()\n",
    "\n",
    "# Correlation heatmap\n",
    "plt.figure(figsize = (10,6))\n",
    "sns.heatmap(df.corr(), annot=True, cmap='coolwarm')\n",
    "plt.show()\n",
    "\n",
    "#Legendary vs Non-Legendary total_stats\n",
    "sns.boxplot(x='legendary', y ='total_stats', data=df)\n",
    "plt.show()"
   ]
  },
  {
   "cell_type": "markdown",
   "id": "498a059e",
   "metadata": {},
   "source": [
    "## Exporting results"
   ]
  },
  {
   "cell_type": "code",
   "execution_count": 20,
   "id": "5266c17a",
   "metadata": {},
   "outputs": [],
   "source": [
    "# Saving cleaned dataset\n",
    "df.to_csv('pokemon_Dataset_cleaned.csv', index = False)\n",
    "\n",
    "#Saving grouped insights\n",
    "avg_stats_by_type.to_csv('avg_stats_by_type.csv')"
   ]
  },
  {
   "cell_type": "code",
   "execution_count": null,
   "id": "47399c20",
   "metadata": {},
   "outputs": [],
   "source": []
  }
 ],
 "metadata": {
  "kernelspec": {
   "display_name": "Python 3",
   "language": "python",
   "name": "python3"
  },
  "language_info": {
   "codemirror_mode": {
    "name": "ipython",
    "version": 3
   },
   "file_extension": ".py",
   "mimetype": "text/x-python",
   "name": "python",
   "nbconvert_exporter": "python",
   "pygments_lexer": "ipython3",
   "version": "3.8.8"
  }
 },
 "nbformat": 4,
 "nbformat_minor": 5
}
